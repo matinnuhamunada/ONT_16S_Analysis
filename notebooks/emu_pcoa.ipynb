{
 "cells": [
  {
   "cell_type": "code",
   "execution_count": null,
   "id": "16ca1187-d682-4d19-83e8-473d9d5359ae",
   "metadata": {},
   "outputs": [],
   "source": [
    "import pandas as pd\n",
    "import skbio\n",
    "from skbio.diversity import beta_diversity\n",
    "from skbio.stats.ordination import pcoa\n",
    "import altair as alt"
   ]
  },
  {
   "cell_type": "code",
   "execution_count": null,
   "id": "081f55cd-6721-4feb-9089-42677e23de25",
   "metadata": {},
   "outputs": [],
   "source": [
    "df = pd.read_csv(\"../data/processed/emu/emu-combined-tax_id.tsv\", sep=\"\\t\")\n",
    "df_tax = pd.read_csv(\"../resources/database/silva/taxonomy_split.tsv\", sep=\"\\t\", index_col=0)\n",
    "tax_columns = ['superkingdom', 'phylum', 'class', 'order', 'family', 'genus', 'species']\n",
    "for col in tax_columns:\n",
    "    df[col] = df['tax_id'].apply(lambda x: df_tax.at[int(x), col] if x != \"unassigned\" and int(x) in df_tax.index else None)"
   ]
  },
  {
   "cell_type": "code",
   "execution_count": null,
   "id": "32c8ff4a-b6f2-4ea1-bcfd-794674b18013",
   "metadata": {},
   "outputs": [],
   "source": [
    "def visualize_abundance(df, df_tax, level=\"tax_id\"):\n",
    "    full_tax_columns = ['superkingdom', 'phylum', 'class', 'order', 'family', 'genus', 'species', 'tax_id']\n",
    "    \n",
    "    # Remove the specified level from tax_columns\n",
    "    tax_columns = [col for col in full_tax_columns if col != level]\n",
    "    \n",
    "    df = df.drop(columns=tax_columns)\n",
    "    \n",
    "    # Set tax_id as the index\n",
    "    df.set_index(level, inplace=True)\n",
    "    \n",
    "    # Calculate total abundance for each tax_id by summing across the rows\n",
    "    total_abundance = df.sum(axis=1)\n",
    "    \n",
    "    # Identify the top 10 tax_id by total abundance\n",
    "    top_10_tax_ids = total_abundance.nlargest(10).index\n",
    "    \n",
    "    # Define colors for the top 10 tax_id\n",
    "    colors = ['#1f77b4', '#ff7f0e', '#2ca02c', '#d62728', '#9467bd', \n",
    "              '#8c564b', '#e377c2', '#7f7f7f', '#bcbd22', '#17becf']\n",
    "    color_map = {tax_id: color for tax_id, color in zip(top_10_tax_ids, colors)}\n",
    "    \n",
    "    # Assign grey color for other tax_id\n",
    "    color_map['other'] = 'grey'\n",
    "    \n",
    "    # Add a color column to the DataFrame\n",
    "    df['color'] = df.index.to_series().apply(lambda x: color_map[x] if x in color_map else color_map['other'])\n",
    "    \n",
    "    # Reset the index to melt the DataFrame\n",
    "    df.reset_index(inplace=True)\n",
    "    \n",
    "    # Melt the DataFrame to long format for Altair\n",
    "    df_melted = df.melt(id_vars=[level, 'color'], var_name='barcode', value_name='relative_abundance')\n",
    "    \n",
    "    # Drop rows with NaN values in 'relative_abundance'\n",
    "    df_melted = df_melted.dropna(subset=['relative_abundance'])\n",
    "    # Enrich the melted DataFrame with taxonomic information using a lambda function\n",
    "    for col in tax_columns:\n",
    "        df_melted[col] = df_melted[level].apply(lambda x: df_tax.at[int(x), col] if x != \"unassigned\" and int(x) in df_tax.index else None)\n",
    "    \n",
    "    # Create the Altair chart\n",
    "    chart = alt.Chart(df_melted).mark_bar().encode(\n",
    "        x='barcode:N',\n",
    "        y='relative_abundance:Q',\n",
    "        color=alt.Color('color:N', scale=None),\n",
    "        tooltip=full_tax_columns + ['relative_abundance']\n",
    "    ).properties(\n",
    "        title='Relative Distribution of Taxa ID'\n",
    "    )\n",
    "    \n",
    "    # Display the chart\n",
    "    chart.show()\n",
    "\n",
    "visualize_abundance(df, df_tax, level=\"tax_id\")"
   ]
  },
  {
   "cell_type": "code",
   "execution_count": null,
   "id": "8fd37fb5-81d1-4bea-8854-995240645f56",
   "metadata": {},
   "outputs": [],
   "source": [
    "df_matrix = df.copy().drop(columns=['superkingdom', 'phylum', 'class', 'order', 'family', 'genus', 'species',]).set_index(\"tax_id\")"
   ]
  },
  {
   "cell_type": "code",
   "execution_count": null,
   "id": "a60e5304-9722-48c8-8146-f4441fc01517",
   "metadata": {},
   "outputs": [],
   "source": [
    "df_matrix"
   ]
  },
  {
   "cell_type": "code",
   "execution_count": null,
   "id": "3d974a66-23b2-4934-838c-82d4c50e4d92",
   "metadata": {},
   "outputs": [],
   "source": [
    "# Calculate the Bray-Curtis distance matrix\n",
    "df_matrix = df_matrix.fillna(0)\n",
    "distance_matrix = beta_diversity('braycurtis', df_matrix.T, ids=df_matrix.columns)\n",
    "\n",
    "# Perform PCoA\n",
    "pcoa_results = pcoa(distance_matrix)\n",
    "\n",
    "# Inspect eigenvalues\n",
    "#print(\"Eigenvalues:\\n\", pcoa_results.eigvals)\n",
    "\n",
    "# Create a DataFrame for the PCoA results\n",
    "pcoa_df = pcoa_results.samples.reset_index()\n",
    "\n",
    "# Plot the PCoA results using Altair\n",
    "base = alt.Chart(pcoa_df).mark_circle(size=100).encode(\n",
    "    x=alt.X('PC1', title=f'PC1 ({pcoa_results.proportion_explained.iloc[0]:.2%} variance)'),\n",
    "    y=alt.Y('PC2', title=f'PC2 ({pcoa_results.proportion_explained.iloc[1]:.2%} variance)'),\n",
    "    tooltip=['index', 'PC1', 'PC2']\n",
    ").properties(\n",
    "    title='Principal Coordinate Analysis (PCoA)',\n",
    "    width=600,\n",
    "    height=600\n",
    ")\n",
    "\n",
    "# Vertical line at x=0\n",
    "vline = alt.Chart(pd.DataFrame({'x': [0]})).mark_rule(color='red').encode(\n",
    "    x='x:Q'\n",
    ")\n",
    "\n",
    "# Horizontal line at y=0\n",
    "hline = alt.Chart(pd.DataFrame({'y': [0]})).mark_rule(color='red').encode(\n",
    "    y='y:Q'\n",
    ")\n",
    "\n",
    "# Combine the base chart with the lines\n",
    "chart = base + vline + hline\n",
    "\n",
    "# Display the chart\n",
    "chart.show()"
   ]
  },
  {
   "cell_type": "code",
   "execution_count": null,
   "id": "deb4c324-9025-47e0-a31d-9b1938d5cdce",
   "metadata": {},
   "outputs": [],
   "source": [
    "pcoa_results.proportion_explained"
   ]
  }
 ],
 "metadata": {
  "kernelspec": {
   "display_name": "Python 3 (ipykernel)",
   "language": "python",
   "name": "python3"
  },
  "language_info": {
   "codemirror_mode": {
    "name": "ipython",
    "version": 3
   },
   "file_extension": ".py",
   "mimetype": "text/x-python",
   "name": "python",
   "nbconvert_exporter": "python",
   "pygments_lexer": "ipython3",
   "version": "3.9.19"
  }
 },
 "nbformat": 4,
 "nbformat_minor": 5
}
